{
 "cells": [
  {
   "cell_type": "code",
   "execution_count": 1,
   "metadata": {},
   "outputs": [],
   "source": [
    "from comet_ml.api import API\n",
    "import numpy as np\n",
    "import matplotlib.pyplot as plt \n",
    "import pandas as pd\n",
    "\n",
    "# comet_api = API(api_key=\"w7QuiECYXbNiOozveTpjc9uPg\")\n",
    "# experiments = comet_api.get(workspace=\"tensorized-rnn\", project_name=\"digit-classification\")\n",
    "\n",
    "def fetch_val_eer(experiments, cores_result_dict):\n",
    "    for exp in experiments:\n",
    "        tags = exp.get_tags()\n",
    "        tag = tags[-1]\n",
    "        \n",
    "        if tag in cores_result_dict.keys():\n",
    "            # best validation eer is the last one recorded.\n",
    "            best_val_eer_dict = exp.get_metrics(\"best_eer\")[-1]\n",
    "            best_val_eer = float(best_val_eer_dict['metricValue'])\n",
    "            # best_val_eer_step = int(best_val_eer_dict['step'])\n",
    "            \n",
    "            cores_result_dict[tag].append(best_val_eer)\n",
    "    print(cores_result_dict)\n",
    "    \n",
    "    # average results of experiment repeats.\n",
    "    cores_avg_result_dict = {}\n",
    "    for tag, eer_list in cores_result_dict.items():\n",
    "        print(\"Tag: {}. No of experiments: {}\".format(tag, len(eer_list)))\n",
    "        cores_avg_result_dict[tag] = round(np.mean(eer_list) * 100, 2) \n",
    "        \n",
    "    return cores_avg_result_dict\n",
    "\n",
    "\n",
    "def safely_get_parameter(api_exp, param_name):\n",
    "    param_list = api_exp.get_parameters_summary(param_name)\n",
    "    if len(param_list) == 0:\n",
    "        raise ValueError(\"parameter '{}' was not found in experiment '{}'\"\n",
    "                         .format(param_name, api_exp.get_metadata()[\"experimentKey\"]))\n",
    "    return param_list[\"valueCurrent\"]\n",
    "\n",
    "def get_max_value_of_metric(api_exp, metric_key):\n",
    "    metric_vals = api_exp.get_metrics(metric_key)\n",
    "    max_val = 0\n",
    "    for metric_val in metric_vals:\n",
    "        metric_as_float = float(metric_val['metricValue'])\n",
    "        if metric_as_float > max_val:\n",
    "            max_val = metric_as_float\n",
    "    \n",
    "    return max_val\n",
    "\n",
    "def tt_num_params(in_core_shape, out_core_shape, rank, bias=True):\n",
    "    # number of parameters in a tt linear layer.\n",
    "    assert len(in_core_shape) == len(out_core_shape)\n",
    "    n_cores = len(in_core_shape)\n",
    "    \n",
    "    result = 0\n",
    "    out_size = 1\n",
    "    for i in range(n_cores):\n",
    "        if i == 0 or i == n_cores - 1:\n",
    "            result += rank * (in_core_shape[i]) * out_core_shape[i]\n",
    "        else:\n",
    "            result += rank**2 * (in_core_shape[i]) * out_core_shape[i]\n",
    "        out_size *= out_core_shape[i]\n",
    "    \n",
    "    if bias:\n",
    "        result += out_size\n",
    "    return result\n",
    "\n",
    "def tt_lstm_num_params(num_layers, hidden_core_shape, input_core_shape, rank, bias=True):\n",
    "    # number of parameters in a tt lstm.\n",
    "    n_gates_and_cell = 4\n",
    "    result = 0\n",
    "    \n",
    "    # layer 1\n",
    "    result = 4 * (tt_num_params(input_core_shape, hidden_core_shape, rank, False) \n",
    "                      + tt_num_params(hidden_core_shape, hidden_core_shape, rank, bias))\n",
    "    \n",
    "    # for higher layers, input_size == hidden_size\n",
    "    if num_layers > 1:\n",
    "        num_layers_minus_1 = num_layers - 1\n",
    "        result += num_layers_minus_1 * 4 * (tt_num_params(hidden_core_shape, hidden_core_shape, rank, False) \n",
    "                      + tt_num_params(hidden_core_shape, hidden_core_shape, rank, bias))\n",
    "    \n",
    "    return result\n",
    "\n",
    "def lstm_num_params(num_layers, hidden_size, input_size, bias=True):\n",
    "    n_gates_and_cell = 4\n",
    "    result = 0\n",
    "    \n",
    "    # layer 1\n",
    "    result = 4 * ((input_size + hidden_size + int(bias)) * hidden_size)\n",
    "    \n",
    "    # for higher layers, input_size == hidden_size\n",
    "    if num_layers > 1:\n",
    "        num_layers_minus_1 = num_layers - 1\n",
    "        result += num_layers_minus_1 * 4 * ((hidden_size + hidden_size + int(bias)) * hidden_size)\n",
    "    \n",
    "    return result\n",
    "\n",
    "def tt_lstm_num_params_with_concattrick(num_layers, hidden_shape, hidden_out_shape, input_shape, rank, bias=True):\n",
    "    # number of parameters in a tt lstm that uses concatenation trick.\n",
    "    n_gates_and_cell = 4\n",
    "    result = 0\n",
    "    \n",
    "    # layer 1\n",
    "    result = (tt_num_params(input_shape, hidden_out_shape, rank, False) \n",
    "                      + tt_num_params(hidden_shape, hidden_out_shape, rank, bias))\n",
    "    \n",
    "    # for higher layers, input_size == hidden_size\n",
    "    if num_layers > 1:\n",
    "        num_layers_minus_1 = num_layers - 1\n",
    "        result += num_layers_minus_1 * (tt_num_params(hidden_shape, hidden_out_shape, rank, False) \n",
    "                      + tt_num_params(hidden_shape, hidden_out_shape, rank, bias))\n",
    "    \n",
    "    return result"
   ]
  },
  {
   "cell_type": "code",
   "execution_count": 2,
   "metadata": {},
   "outputs": [
    {
     "name": "stdout",
     "output_type": "stream",
     "text": [
      "1178\n"
     ]
    }
   ],
   "source": [
    "a = lstm_num_params(2, 32, 28, bias=True) + 32 * 10 + 10\n",
    "b = tt_lstm_num_params_with_concattrick(2, (2, 4, 4), (4, 4, 8), (2, 2, 7), 2, bias=True)\n",
    "print(b + 32 * 10 + 10)"
   ]
  },
  {
   "cell_type": "markdown",
   "metadata": {},
   "source": [
    "## Model Configuration (update if model changes)"
   ]
  },
  {
   "cell_type": "code",
   "execution_count": 21,
   "metadata": {},
   "outputs": [],
   "source": [
    "def get_input_core_shape(n_cores):\n",
    "    # input is of size 28\n",
    "    if n_cores == 2:\n",
    "        shape = (4, 7)\n",
    "    elif n_cores == 3:\n",
    "        shape = (2, 2, 7)\n",
    "    else:\n",
    "        raise ValueError(\"cores value not supported.\")\n",
    "    return shape\n",
    "\n",
    "def get_hidden_core_shape(n_cores):\n",
    "    # hidden size of 32\n",
    "    if n_cores == 2:\n",
    "        raise ValueError(\"cores value not supported.\")\n",
    "    elif n_cores == 3:\n",
    "        shape = (2, 4, 4)\n",
    "    else:\n",
    "        raise ValueError(\"cores value not supported.\")\n",
    "    return shape\n",
    "\n",
    "def get_hidden_out_core_shape(n_cores):\n",
    "    # hidden size of 32\n",
    "    if n_cores == 2:\n",
    "        raise ValueError(\"cores value not supported.\")\n",
    "    elif n_cores == 3:\n",
    "        shape = (4, 4, 8)\n",
    "    else:\n",
    "        raise ValueError(\"cores value not supported.\")\n",
    "    return shape\n",
    "\n",
    "def get_nlayers_in_model():\n",
    "    return 2"
   ]
  },
  {
   "cell_type": "code",
   "execution_count": 7,
   "metadata": {},
   "outputs": [
    {
     "ename": "NameError",
     "evalue": "name 'experiments' is not defined",
     "output_type": "error",
     "traceback": [
      "\u001b[1;31m---------------------------------------------------------------------------\u001b[0m",
      "\u001b[1;31mNameError\u001b[0m                                 Traceback (most recent call last)",
      "\u001b[1;32m<ipython-input-7-b3a6f472e593>\u001b[0m in \u001b[0;36m<module>\u001b[1;34m\u001b[0m\n\u001b[0;32m     34\u001b[0m \u001b[1;33m\u001b[0m\u001b[0m\n\u001b[0;32m     35\u001b[0m \u001b[1;31m# plot tt experiments.\u001b[0m\u001b[1;33m\u001b[0m\u001b[1;33m\u001b[0m\u001b[1;33m\u001b[0m\u001b[0m\n\u001b[1;32m---> 36\u001b[1;33m \u001b[0mexperiments_result_dict\u001b[0m \u001b[1;33m=\u001b[0m \u001b[0mcreate_dict_with_tt_results\u001b[0m\u001b[1;33m(\u001b[0m\u001b[1;33m)\u001b[0m\u001b[1;33m\u001b[0m\u001b[1;33m\u001b[0m\u001b[0m\n\u001b[0m\u001b[0;32m     37\u001b[0m \u001b[1;32mfor\u001b[0m \u001b[0mk\u001b[0m\u001b[1;33m,\u001b[0m \u001b[0mv\u001b[0m \u001b[1;32min\u001b[0m \u001b[0mexperiments_result_dict\u001b[0m\u001b[1;33m.\u001b[0m\u001b[0mitems\u001b[0m\u001b[1;33m(\u001b[0m\u001b[1;33m)\u001b[0m\u001b[1;33m:\u001b[0m\u001b[1;33m\u001b[0m\u001b[1;33m\u001b[0m\u001b[0m\n\u001b[0;32m     38\u001b[0m     \u001b[1;31m# get no of params for each rank\u001b[0m\u001b[1;33m\u001b[0m\u001b[1;33m\u001b[0m\u001b[1;33m\u001b[0m\u001b[0m\n",
      "\u001b[1;32m<ipython-input-7-b3a6f472e593>\u001b[0m in \u001b[0;36mcreate_dict_with_tt_results\u001b[1;34m()\u001b[0m\n\u001b[0;32m      6\u001b[0m                               3: {1: 0, 2: 0, 3: 0, 4: 0, 5: 0, 6: 0, 8:0, 10:0, 12:0, 14:0}}\n\u001b[0;32m      7\u001b[0m \u001b[1;33m\u001b[0m\u001b[0m\n\u001b[1;32m----> 8\u001b[1;33m     \u001b[1;32mfor\u001b[0m \u001b[0mexp\u001b[0m \u001b[1;32min\u001b[0m \u001b[0mexperiments\u001b[0m\u001b[1;33m:\u001b[0m\u001b[1;33m\u001b[0m\u001b[1;33m\u001b[0m\u001b[0m\n\u001b[0m\u001b[0;32m      9\u001b[0m         \u001b[0muse_tt\u001b[0m \u001b[1;33m=\u001b[0m \u001b[0mexp\u001b[0m\u001b[1;33m.\u001b[0m\u001b[0mget_parameters_summary\u001b[0m\u001b[1;33m(\u001b[0m\u001b[1;34m\"ttlstm\"\u001b[0m\u001b[1;33m)\u001b[0m\u001b[1;33m[\u001b[0m\u001b[1;34m\"valueCurrent\"\u001b[0m\u001b[1;33m]\u001b[0m\u001b[1;33m\u001b[0m\u001b[1;33m\u001b[0m\u001b[0m\n\u001b[0;32m     10\u001b[0m         \u001b[1;32mif\u001b[0m \u001b[1;32mnot\u001b[0m \u001b[0muse_tt\u001b[0m\u001b[1;33m:\u001b[0m \u001b[1;32mcontinue\u001b[0m\u001b[1;33m\u001b[0m\u001b[1;33m\u001b[0m\u001b[0m\n",
      "\u001b[1;31mNameError\u001b[0m: name 'experiments' is not defined"
     ]
    },
    {
     "data": {
      "image/png": "[encoded data removed]",
      "text/plain": [
       "<Figure size 648x432 with 1 Axes>"
      ]
     },
     "metadata": {
      "needs_background": "light"
     },
     "output_type": "display_data"
    }
   ],
   "source": [
    "def create_dict_with_tt_results():\n",
    "    \"\"\" Load test accuracies according to ranks and no of cores \"\"\"\n",
    "    \n",
    "    # dict with \"key: n-cores\", \"value: dict of (key: rank, value: test_eer)\"\n",
    "    experiments_result_dict = {2: {1: 0, 2: 0, 3: 0, 4: 0, 5: 0, 6: 0, 8:0, 10:0, 12:0, 14:0},\n",
    "                              3: {1: 0, 2: 0, 3: 0, 4: 0, 5: 0, 6: 0, 8:0, 10:0, 12:0, 14:0}}\n",
    "\n",
    "    for exp in experiments:    \n",
    "        use_tt = exp.get_parameters_summary(\"ttlstm\")[\"valueCurrent\"]\n",
    "        if not use_tt: continue\n",
    "\n",
    "        try:\n",
    "            n_cores = int(safely_get_parameter(exp, \"ncores\"))\n",
    "            tt_rank = int(safely_get_parameter(exp, \"ttrank\"))\n",
    "            best_test_acc = get_max_value_of_metric(exp, \"test_accuracy\")\n",
    "        except Exception as e:\n",
    "            print(e)\n",
    "            continue\n",
    "\n",
    "        if n_cores not in experiments_result_dict \\\n",
    "                or tt_rank not in experiments_result_dict[n_cores]:\n",
    "            print(\"Skipping experiment: use_tt={}, n_cores={}, tt_rank={}\".format(use_tt, n_cores, tt_rank))\n",
    "            continue\n",
    "        experiments_result_dict[n_cores][tt_rank] = best_test_acc\n",
    "    return experiments_result_dict\n",
    "\n",
    "### PlOT THE RESULTS\n",
    "plt.figure(figsize=(9, 6))\n",
    "in_size = 256\n",
    "out_size = 256\n",
    "\n",
    "# plot uncompressed experiment.\n",
    "plt.plot(20530, 98.77, \"D\", label=\"uncompressed\", color='black', linewidth=3)\n",
    "\n",
    "# plot tt experiments.\n",
    "experiments_result_dict = create_dict_with_tt_results()\n",
    "for k, v in experiments_result_dict.items():\n",
    "    # get no of params for each rank\n",
    "    input_core_shape = get_input_core_shape(k)\n",
    "    hidden_core_shape = get_hidden_core_shape(k)\n",
    "    n_layers = get_nlayers_in_model()\n",
    "    param_counts = [tt_lstm_num_params(n_layers, hidden_core_shape, input_core_shape, rank, bias=True)\n",
    "                    for rank in v.keys()]\n",
    "    print(\"TT-{}cores params: {}\".format(len(hidden_core_shape), param_counts))\n",
    "    \n",
    "    param_counts = [tt_lstm_num_params2(n_layers, hidden_core_shape, input_core_shape, rank, bias=True)\n",
    "                    for rank in v.keys()]\n",
    "    print(\"TT-{}cores params: {}\".format(len(hidden_core_shape), param_counts))\n",
    "    \n",
    "    # plot test accuracy of each tt experiment\n",
    "    plt.plot(param_counts, v.values(), \"-o\", label=\"tt-lstm ({} cores)\".format(len(hidden_core_shape)))\n",
    "plt.xscale('log')\n",
    "plt.xlabel('no of parameters', fontsize=14)\n",
    "plt.ylabel('test accuracy', fontsize=14)\n",
    "plt.ylim([85, 100])\n",
    "plt.xlim([1e3, 1e5])\n",
    "plt.legend(fontsize=12)\n",
    "plt.show()"
   ]
  },
  {
   "cell_type": "code",
   "execution_count": 12,
   "metadata": {},
   "outputs": [
    {
     "name": "stdout",
     "output_type": "stream",
     "text": [
      "Skipping experiment: use_tt=true, n_cores=2, tt_rank=8\n",
      "Skipping experiment: use_tt=true, n_cores=3, tt_rank=8\n",
      "{2: {1: 95.98999786376953, 2: 96.76000213623047, 3: 97.16999816894531, 4: 97.47000122070312, 5: 97.66000366210938, 6: 98.0}, 3: {1: 92.06999969482422, 2: 95.11000061035156, 3: 96.4000015258789, 4: 96.8499984741211, 5: 97.48999786376953, 6: 98.22000122070312}}\n"
     ]
    }
   ],
   "source": [
    "experiments_result_dict = create_dict_with_results()\n",
    "print(experiments_result_dict)"
   ]
  },
  {
   "cell_type": "code",
   "execution_count": 13,
   "metadata": {},
   "outputs": [
    {
     "data": {
      "text/plain": [
       "3072"
      ]
     },
     "execution_count": 13,
     "metadata": {},
     "output_type": "execute_result"
    }
   ],
   "source": [
    "20416 - 17344"
   ]
  },
  {
   "cell_type": "code",
   "execution_count": null,
   "metadata": {},
   "outputs": [],
   "source": []
  }
 ],
 "metadata": {
  "kernelspec": {
   "display_name": "Python 3",
   "language": "python",
   "name": "python3"
  },
  "language_info": {
   "codemirror_mode": {
    "name": "ipython",
    "version": 3
   },
   "file_extension": ".py",
   "mimetype": "text/x-python",
   "name": "python",
   "nbconvert_exporter": "python",
   "pygments_lexer": "ipython3",
   "version": "3.7.1"
  }
 },
 "nbformat": 4,
 "nbformat_minor": 2
}
