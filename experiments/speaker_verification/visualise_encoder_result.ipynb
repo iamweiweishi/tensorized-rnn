{
 "cells": [
  {
   "cell_type": "code",
   "execution_count": 2,
   "metadata": {},
   "outputs": [
    {
     "ename": "ValueError",
     "evalue": "Invalid COMET_REST_API_KEY",
     "output_type": "error",
     "traceback": [
      "\u001b[1;31m---------------------------------------------------------------------------\u001b[0m",
      "\u001b[1;31mValueError\u001b[0m                                Traceback (most recent call last)",
      "\u001b[1;32m<ipython-input-2-102942d97a4c>\u001b[0m in \u001b[0;36m<module>\u001b[1;34m\u001b[0m\n\u001b[0;32m      4\u001b[0m \u001b[1;32mimport\u001b[0m \u001b[0mpandas\u001b[0m \u001b[1;32mas\u001b[0m \u001b[0mpd\u001b[0m\u001b[1;33m\u001b[0m\u001b[1;33m\u001b[0m\u001b[0m\n\u001b[0;32m      5\u001b[0m \u001b[1;33m\u001b[0m\u001b[0m\n\u001b[1;32m----> 6\u001b[1;33m \u001b[0mcomet_api\u001b[0m \u001b[1;33m=\u001b[0m \u001b[0mAPI\u001b[0m\u001b[1;33m(\u001b[0m\u001b[0mapi_key\u001b[0m\u001b[1;33m=\u001b[0m\u001b[1;34m\"w7QuiECYXbNiOozveTpjc9uPg\"\u001b[0m\u001b[1;33m)\u001b[0m\u001b[1;33m\u001b[0m\u001b[1;33m\u001b[0m\u001b[0m\n\u001b[0m\u001b[0;32m      7\u001b[0m \u001b[0mexperiments\u001b[0m \u001b[1;33m=\u001b[0m \u001b[0mcomet_api\u001b[0m\u001b[1;33m.\u001b[0m\u001b[0mget\u001b[0m\u001b[1;33m(\u001b[0m\u001b[0mworkspace\u001b[0m\u001b[1;33m=\u001b[0m\u001b[1;34m\"onucharles\"\u001b[0m\u001b[1;33m,\u001b[0m \u001b[0mproject_name\u001b[0m\u001b[1;33m=\u001b[0m\u001b[1;34m\"speech-model-compression\"\u001b[0m\u001b[1;33m)\u001b[0m\u001b[1;33m\u001b[0m\u001b[1;33m\u001b[0m\u001b[0m\n\u001b[0;32m      8\u001b[0m \u001b[1;33m\u001b[0m\u001b[0m\n",
      "\u001b[1;32m~\\AppData\\Local\\Continuum\\miniconda3\\envs\\pytorch-env\\lib\\site-packages\\comet_ml\\api.py\u001b[0m in \u001b[0;36m__init__\u001b[1;34m(self, api_key, rest_api_key, version, persistent)\u001b[0m\n\u001b[0;32m    511\u001b[0m         \u001b[0mself\u001b[0m\u001b[1;33m.\u001b[0m\u001b[0m_rest_api_key\u001b[0m \u001b[1;33m=\u001b[0m \u001b[0mget_rest_api_key\u001b[0m\u001b[1;33m(\u001b[0m\u001b[0mrest_api_key\u001b[0m\u001b[1;33m,\u001b[0m \u001b[0mself\u001b[0m\u001b[1;33m.\u001b[0m\u001b[0m_config\u001b[0m\u001b[1;33m)\u001b[0m\u001b[1;33m\u001b[0m\u001b[1;33m\u001b[0m\u001b[0m\n\u001b[0;32m    512\u001b[0m         \u001b[0mself\u001b[0m\u001b[1;33m.\u001b[0m\u001b[0m_api_key\u001b[0m \u001b[1;33m=\u001b[0m \u001b[0mget_api_key\u001b[0m\u001b[1;33m(\u001b[0m\u001b[0mapi_key\u001b[0m\u001b[1;33m,\u001b[0m \u001b[0mself\u001b[0m\u001b[1;33m.\u001b[0m\u001b[0m_config\u001b[0m\u001b[1;33m)\u001b[0m\u001b[1;33m\u001b[0m\u001b[1;33m\u001b[0m\u001b[0m\n\u001b[1;32m--> 513\u001b[1;33m         \u001b[0mself\u001b[0m\u001b[1;33m.\u001b[0m\u001b[0m_rebuild_cache\u001b[0m\u001b[1;33m(\u001b[0m\u001b[1;33m)\u001b[0m\u001b[1;33m\u001b[0m\u001b[1;33m\u001b[0m\u001b[0m\n\u001b[0m\u001b[0;32m    514\u001b[0m         \u001b[0mself\u001b[0m\u001b[1;33m.\u001b[0m\u001b[0mworkspaces\u001b[0m \u001b[1;33m=\u001b[0m \u001b[0mWorkspaces\u001b[0m\u001b[1;33m(\u001b[0m\u001b[0mself\u001b[0m\u001b[1;33m)\u001b[0m\u001b[1;33m\u001b[0m\u001b[1;33m\u001b[0m\u001b[0m\n\u001b[0;32m    515\u001b[0m \u001b[1;33m\u001b[0m\u001b[0m\n",
      "\u001b[1;32m~\\AppData\\Local\\Continuum\\miniconda3\\envs\\pytorch-env\\lib\\site-packages\\comet_ml\\api.py\u001b[0m in \u001b[0;36m_rebuild_cache\u001b[1;34m(self)\u001b[0m\n\u001b[0;32m    516\u001b[0m     \u001b[1;32mdef\u001b[0m \u001b[0m_rebuild_cache\u001b[0m\u001b[1;33m(\u001b[0m\u001b[0mself\u001b[0m\u001b[1;33m)\u001b[0m\u001b[1;33m:\u001b[0m\u001b[1;33m\u001b[0m\u001b[1;33m\u001b[0m\u001b[0m\n\u001b[0;32m    517\u001b[0m         self._CACHE = {\n\u001b[1;32m--> 518\u001b[1;33m             \u001b[0mw\u001b[0m\u001b[1;33m:\u001b[0m \u001b[1;33m{\u001b[0m\u001b[1;34m\"projects\"\u001b[0m\u001b[1;33m:\u001b[0m \u001b[1;33m{\u001b[0m\u001b[1;33m}\u001b[0m\u001b[1;33m,\u001b[0m \u001b[1;34m\"is_owner\"\u001b[0m\u001b[1;33m:\u001b[0m \u001b[1;32mTrue\u001b[0m\u001b[1;33m}\u001b[0m \u001b[1;32mfor\u001b[0m \u001b[0mw\u001b[0m \u001b[1;32min\u001b[0m \u001b[0mself\u001b[0m\u001b[1;33m.\u001b[0m\u001b[0mget_workspaces\u001b[0m\u001b[1;33m(\u001b[0m\u001b[1;33m)\u001b[0m\u001b[1;33m\u001b[0m\u001b[1;33m\u001b[0m\u001b[0m\n\u001b[0m\u001b[0;32m    519\u001b[0m         }\n\u001b[0;32m    520\u001b[0m \u001b[1;33m\u001b[0m\u001b[0m\n",
      "\u001b[1;32m~\\AppData\\Local\\Continuum\\miniconda3\\envs\\pytorch-env\\lib\\site-packages\\comet_ml\\api.py\u001b[0m in \u001b[0;36mget_workspaces\u001b[1;34m(self)\u001b[0m\n\u001b[0;32m    734\u001b[0m         \"\"\"\n\u001b[0;32m    735\u001b[0m         \u001b[0mparams\u001b[0m \u001b[1;33m=\u001b[0m \u001b[1;33m{\u001b[0m\u001b[1;33m}\u001b[0m\u001b[1;33m\u001b[0m\u001b[1;33m\u001b[0m\u001b[0m\n\u001b[1;32m--> 736\u001b[1;33m         \u001b[0mresults\u001b[0m \u001b[1;33m=\u001b[0m \u001b[0mself\u001b[0m\u001b[1;33m.\u001b[0m\u001b[0mget_request\u001b[0m\u001b[1;33m(\u001b[0m\u001b[1;34m\"workspaces\"\u001b[0m\u001b[1;33m,\u001b[0m \u001b[0mparams\u001b[0m\u001b[1;33m)\u001b[0m\u001b[1;33m\u001b[0m\u001b[1;33m\u001b[0m\u001b[0m\n\u001b[0m\u001b[0;32m    737\u001b[0m         \u001b[1;32mreturn\u001b[0m \u001b[0mresults\u001b[0m\u001b[1;33m[\u001b[0m\u001b[1;34m\"workspaces\"\u001b[0m\u001b[1;33m]\u001b[0m\u001b[1;33m\u001b[0m\u001b[1;33m\u001b[0m\u001b[0m\n\u001b[0;32m    738\u001b[0m \u001b[1;33m\u001b[0m\u001b[0m\n",
      "\u001b[1;32m~\\AppData\\Local\\Continuum\\miniconda3\\envs\\pytorch-env\\lib\\site-packages\\comet_ml\\api.py\u001b[0m in \u001b[0;36mget_request\u001b[1;34m(self, end_point, params, return_type)\u001b[0m\n\u001b[0;32m    677\u001b[0m                 \u001b[1;32mraise\u001b[0m\u001b[1;33m\u001b[0m\u001b[1;33m\u001b[0m\u001b[0m\n\u001b[0;32m    678\u001b[0m         \u001b[1;32mif\u001b[0m \u001b[0mraise_exception\u001b[0m\u001b[1;33m:\u001b[0m\u001b[1;33m\u001b[0m\u001b[1;33m\u001b[0m\u001b[0m\n\u001b[1;32m--> 679\u001b[1;33m             \u001b[1;32mraise\u001b[0m \u001b[0mraise_exception\u001b[0m\u001b[1;33m\u001b[0m\u001b[1;33m\u001b[0m\u001b[0m\n\u001b[0m\u001b[0;32m    680\u001b[0m         \u001b[1;31m### Return data based on return_type:\u001b[0m\u001b[1;33m\u001b[0m\u001b[1;33m\u001b[0m\u001b[1;33m\u001b[0m\u001b[0m\n\u001b[0;32m    681\u001b[0m         \u001b[1;32mif\u001b[0m \u001b[0mreturn_type\u001b[0m \u001b[1;33m==\u001b[0m \u001b[1;34m\"json\"\u001b[0m\u001b[1;33m:\u001b[0m\u001b[1;33m\u001b[0m\u001b[1;33m\u001b[0m\u001b[0m\n",
      "\u001b[1;31mValueError\u001b[0m: Invalid COMET_REST_API_KEY"
     ]
    }
   ],
   "source": [
    "from comet_ml.api import API\n",
    "import numpy as np\n",
    "import matplotlib.pyplot as plt \n",
    "import pandas as pd\n",
    "\n",
    "comet_api = API(api_key=\"w7QuiECYXbNiOozveTpjc9uPg\")\n",
    "experiments = comet_api.get(workspace=\"onucharles\", project_name=\"speech-model-compression\")\n",
    "\n",
    "def fetch_val_eer(experiments, cores_result_dict):\n",
    "    for exp in experiments:\n",
    "        tags = exp.get_tags()\n",
    "        tag = tags[-1]\n",
    "        \n",
    "        if tag in cores_result_dict.keys():\n",
    "            # best validation eer is the last one recorded.\n",
    "            best_val_eer_dict = exp.get_metrics(\"best_eer\")[-1]\n",
    "            best_val_eer = float(best_val_eer_dict['metricValue'])\n",
    "            # best_val_eer_step = int(best_val_eer_dict['step'])\n",
    "            \n",
    "            cores_result_dict[tag].append(best_val_eer)\n",
    "    print(cores_result_dict)\n",
    "    \n",
    "    # average results of experiment repeats.\n",
    "    cores_avg_result_dict = {}\n",
    "    for tag, eer_list in cores_result_dict.items():\n",
    "        print(\"Tag: {}. No of experiments: {}\".format(tag, len(eer_list)))\n",
    "        cores_avg_result_dict[tag] = round(np.mean(eer_list) * 100, 2) \n",
    "        \n",
    "    return cores_avg_result_dict\n",
    "\n",
    "\n",
    "def safely_get_parameter(api_exp, param_name):\n",
    "    param_list = api_exp.get_parameters_summary(param_name)\n",
    "    if len(param_list) == 0:\n",
    "        raise ValueError(\"parameter '{}' was not found in experiment '{}'\"\n",
    "                         .format(param_name, api_exp.get_metadata()[\"experimentKey\"]))\n",
    "    return param_list[\"valueCurrent\"]\n",
    "\n",
    "def get_core_shape(n_cores):\n",
    "    if n_cores == 2:\n",
    "        shape = (16, 16)\n",
    "    elif n_cores == 4:\n",
    "        shape = (4, 4, 4, 4)\n",
    "    elif n_cores == 8:\n",
    "        shape = (2, 2, 2, 2, 2, 2, 2, 2)\n",
    "    else:\n",
    "        raise ValueError(\"cores value not supported.\")\n",
    "    return shape"
   ]
  },
  {
   "cell_type": "markdown",
   "metadata": {},
   "source": [
    "# Model size and parameters"
   ]
  },
  {
   "cell_type": "code",
   "execution_count": 4,
   "metadata": {},
   "outputs": [
    {
     "name": "stdout",
     "output_type": "stream",
     "text": [
      "No of parameters\n",
      "           1        2         3\n",
      "24      5434    10234     15034\n",
      "36      9874    20530     31186\n",
      "256   295434   821770   1348106\n",
      "512  1115146  3216394   5317642\n",
      "768  2459146  7183882  11908618\n"
     ]
    }
   ],
   "source": [
    "hidden_sizes = [24, 36, 256, 512, 768]\n",
    "num_layers = [1, 2, 3]\n",
    "input_size = 28 # 40\n",
    "emb_size = 10 # 256\n",
    "\n",
    "def lstm_num_params(num_layers, hidden_size, input_size, bias=True):\n",
    "    n_gates_and_cell = 4\n",
    "    result = 0\n",
    "    \n",
    "    # layer 1\n",
    "    if bias:\n",
    "        result = 4 * ((input_size + hidden_size + int(bias)) * hidden_size + hidden_size)\n",
    "    else:\n",
    "        result = 4 * ((input_size + hidden_size) * hidden_size)\n",
    "    \n",
    "    # for higher layers, input_size == hidden_size\n",
    "    if num_layers > 1:\n",
    "        num_layers_minus_1 = num_layers - 1\n",
    "        if bias:\n",
    "            result += num_layers_minus_1 * 4 * ((hidden_size + hidden_size + int(bias)) * hidden_size + hidden_size)\n",
    "        else:\n",
    "            result += num_layers_minus_1 * 4 * ((hidden_size + hidden_size) * hidden_size)\n",
    "    \n",
    "    return result\n",
    "\n",
    "data = []\n",
    "for hidden_size in hidden_sizes:\n",
    "    row = []\n",
    "    for layer_size in num_layers:\n",
    "        num_linear_layer = ((hidden_size + 1) * emb_size)\n",
    "        num_lstm_layers = lstm_num_params(layer_size, hidden_size, input_size)\n",
    "        row.append(num_lstm_layers + num_linear_layer)\n",
    "    data.append(row)\n",
    "result = pd.DataFrame(data, index=hidden_sizes, columns=num_layers)\n",
    "print(\"No of parameters\")\n",
    "print(result)\n"
   ]
  },
  {
   "cell_type": "markdown",
   "metadata": {},
   "source": [
    "# Evaluating no of parameters in linear layer using tensor-train."
   ]
  },
  {
   "cell_type": "code",
   "execution_count": 7,
   "metadata": {},
   "outputs": [
    {
     "name": "stdout",
     "output_type": "stream",
     "text": [
      "No of parameters (uncompressed): 65792\n",
      "                             2     4     6     8\n",
      "(16, 16)                  1280  2304  3328  4352\n",
      "(4, 4, 4, 4)               448   896  1600  2560\n",
      "(2, 2, 2, 2, 2, 2, 2, 2)   368   672  1168  1856\n"
     ]
    }
   ],
   "source": [
    "cores_list = [(16,16), (4,4,4,4), (2,2,2,2,2,2,2,2)]\n",
    "ranks_list = [2,4,6,8]\n",
    "\n",
    "def tt_num_params(in_core_shape, out_core_shape, rank, bias=True):\n",
    "    assert len(in_core_shape) == len(out_core_shape)\n",
    "    n_cores = len(in_core_shape)\n",
    "    \n",
    "    result = 0\n",
    "    out_size = 1\n",
    "    for i in range(n_cores):\n",
    "        if i == 0 or i == n_cores - 1:\n",
    "            result += rank * (in_core_shape[i]) * out_core_shape[i]\n",
    "        else:\n",
    "            result += rank**2 * (in_core_shape[i]) * out_core_shape[i]\n",
    "        out_size *= out_core_shape[i]\n",
    "    \n",
    "    if bias:\n",
    "        result += out_size\n",
    "    return result\n",
    "\n",
    "tt_params_count = []\n",
    "for core_shape in cores_list:\n",
    "    row = []\n",
    "    for rank in ranks_list:\n",
    "        num_params = tt_num_params(core_shape, core_shape, rank, True)\n",
    "        row.append(num_params)\n",
    "    tt_params_count.append(row)\n",
    "tt_df = pd.DataFrame(tt_params_count, index=cores_list, columns=ranks_list)\n",
    "print(\"No of parameters (uncompressed):\", 257 * 256)\n",
    "print(tt_df)"
   ]
  },
  {
   "cell_type": "markdown",
   "metadata": {},
   "source": [
    "# Evaluating no of parameters in TT-LSTM"
   ]
  },
  {
   "cell_type": "code",
   "execution_count": 10,
   "metadata": {},
   "outputs": [
    {
     "name": "stdout",
     "output_type": "stream",
     "text": [
      "No of parameters\n",
      "              1     2     3     4     5     6      7\n",
      "(4, 7)     2074  3202  4330  5458  6586  7714   8842\n",
      "(2, 2, 7)  1742  2802  4126  5714  7566  9682  12062\n"
     ]
    }
   ],
   "source": [
    "hidden_size = 36\n",
    "num_layers = 2\n",
    "emb_size = 10\n",
    "in_cores_list = [(4, 7), (2, 2, 7)]\n",
    "hidden_cores_list = [(6, 6), (2, 3, 6)]\n",
    "ranks_list = [1, 2, 3, 4, 5, 6, 7]\n",
    "\n",
    "def tt_lstm_num_params(num_layers, hidden_core_shape, input_core_shape, rank, bias=True):\n",
    "    n_gates_and_cell = 4\n",
    "    result = 0\n",
    "    \n",
    "    # layer 1\n",
    "    result = 4 * (tt_num_params(input_core_shape, hidden_core_shape, rank, bias) \n",
    "                      + tt_num_params(hidden_core_shape, hidden_core_shape, rank, bias))\n",
    "    \n",
    "    # for higher layers, input_size == hidden_size\n",
    "    if num_layers > 1:\n",
    "        num_layers_minus_1 = num_layers - 1\n",
    "        result += num_layers_minus_1 * 4 * (tt_num_params(hidden_core_shape, hidden_core_shape, rank, bias) \n",
    "                      + tt_num_params(hidden_core_shape, hidden_core_shape, rank, bias))\n",
    "    \n",
    "    return result\n",
    "\n",
    "data = []\n",
    "for i in range(len(in_cores_list)):\n",
    "    in_cores = in_cores_list[i]\n",
    "    hidden_cores = hidden_cores_list[i]\n",
    "    row = []\n",
    "    for rank in ranks_list:\n",
    "        num_linear_layer = ((hidden_size + 1) * emb_size)   # NOTE this is a dense matrix.\n",
    "        num_lstm_layers = tt_lstm_num_params(num_layers, hidden_cores, in_cores, rank, True)\n",
    "        row.append(num_lstm_layers + num_linear_layer)\n",
    "    data.append(row)\n",
    "result = pd.DataFrame(data, index=in_cores_list, columns=ranks_list)\n",
    "print(\"No of parameters\")\n",
    "print(result)\n"
   ]
  },
  {
   "cell_type": "markdown",
   "metadata": {},
   "source": [
    "# parameters using concatenation trick\n"
   ]
  },
  {
   "cell_type": "markdown",
   "metadata": {},
   "source": [
    "# Evaluating no of parameters in linear layer using low-rank factorisation."
   ]
  },
  {
   "cell_type": "code",
   "execution_count": 41,
   "metadata": {},
   "outputs": [
    {
     "name": "stdout",
     "output_type": "stream",
     "text": [
      "No of parameters (uncompressed): 65536\n",
      "Rank\tNum of Parms\n",
      "2\t1282\n",
      "4\t2308\n",
      "8\t4360\n",
      "16\t8464\n",
      "32\t16672\n",
      "64\t33088\n"
     ]
    }
   ],
   "source": [
    "def low_rank_params(in_features, out_features, rank, bias):\n",
    "    return ((in_features + int(bias)) * rank) + ((rank + int(bias)) * out_features)\n",
    "\n",
    "in_size = 256\n",
    "out_size = 256\n",
    "ranks = 2 ** np.arange(1,7)\n",
    "\n",
    "print(\"No of parameters (uncompressed):\", 256 * 256)\n",
    "print(\"Rank\\tNum of Parms\")\n",
    "for rank in ranks:\n",
    "    print(\"{}\\t{}\".format(rank, low_rank_params(in_size, out_size, rank, True)))"
   ]
  },
  {
   "cell_type": "markdown",
   "metadata": {},
   "source": [
    "# Plot experiment result"
   ]
  },
  {
   "cell_type": "code",
   "execution_count": 36,
   "metadata": {},
   "outputs": [
    {
     "name": "stdout",
     "output_type": "stream",
     "text": [
      "parameter 'seed' was not found in experiment '64d984142c0748f0b824de7425bb34d9'\n",
      "parameter 'seed' was not found in experiment '23a34c802d9a4d9ea2ae65b781bec2d2'\n",
      "parameter 'seed' was not found in experiment 'ad68d1c6fe4c4d84b20c3dc5728545b8'\n",
      "parameter 'seed' was not found in experiment 'ee3c3d8429fc4edd8ccf37c6dc51709f'\n",
      "parameter 'seed' was not found in experiment '7195a9d84e7e4f01a7cbe1c88ed55ac5'\n",
      "parameter 'seed' was not found in experiment '25ead0112a5446d4a74093b858d7c0ef'\n",
      "parameter 'seed' was not found in experiment 'f370c270097d4b0d9655529c8ad144e0'\n",
      "parameter 'seed' was not found in experiment 'b12b7300047149d6aa7372bb7b706af6'\n",
      "parameter 'seed' was not found in experiment '74b35859efef4e89854f78047a7cc1bf'\n",
      "parameter 'seed' was not found in experiment 'daa314a8ec10421394501fb26f6e7d02'\n",
      "parameter 'seed' was not found in experiment '0ddad14e05864c85ae84ed56422db7ad'\n",
      "parameter 'seed' was not found in experiment '437f3bb799684b8fa8be56fd87774741'\n",
      "parameter 'seed' was not found in experiment 'f27a989a8dee4c29aa156303add69733'\n",
      "parameter 'seed' was not found in experiment '33f0ae53f930446e8e84149ae1c0ed88'\n",
      "parameter 'seed' was not found in experiment 'f4b2b59ffd704ababfc4b46be0fc0203'\n",
      "parameter 'seed' was not found in experiment 'ebe4fcdc0e394395be1d3d8d4a3702ca'\n",
      "parameter 'seed' was not found in experiment '38ee8540d7dd4ad1934d3fce23c7bc3c'\n",
      "parameter 'seed' was not found in experiment '125e703708d647febb88d9c7fc975d98'\n",
      "parameter 'seed' was not found in experiment '6f0f105ccce44f5083672bb1caa70fa5'\n",
      "parameter 'seed' was not found in experiment '4f04d48251244a29b14d214607b96dcf'\n",
      "parameter 'seed' was not found in experiment 'a7d3e101ba594878a79ee7d2eb46159d'\n",
      "Skipping experiment: use_tt=true, n_cores=4, tt_rank=5, seed=11\n",
      "Skipping experiment: use_tt=true, n_cores=4, tt_rank=4, seed=21\n",
      "Skipping experiment: use_tt=true, n_cores=4, tt_rank=4, seed=31\n",
      "Skipping experiment: use_tt=true, n_cores=4, tt_rank=5, seed=21\n",
      "Skipping experiment: use_tt=true, n_cores=4, tt_rank=5, seed=31\n",
      "Skipping experiment: use_tt=true, n_cores=4, tt_rank=6, seed=21\n",
      "Skipping experiment: use_tt=true, n_cores=4, tt_rank=8, seed=21\n",
      "Skipping experiment: use_tt=true, n_cores=4, tt_rank=6, seed=31\n",
      "Skipping experiment: use_tt=true, n_cores=4, tt_rank=8, seed=31\n",
      "Skipping experiment: use_tt=true, n_cores=4, tt_rank=8, seed=21\n",
      "Skipping experiment: use_tt=true, n_cores=4, tt_rank=2, seed=21\n",
      "Skipping experiment: use_tt=true, n_cores=2, tt_rank=2, seed=21\n",
      "Skipping experiment: use_tt=false, n_cores=0, tt_rank=0, seed=11\n",
      "Skipping experiment: use_tt=false, n_cores=0, tt_rank=2, seed=11\n",
      "Skipping experiment: use_tt=false, n_cores=0, tt_rank=64, seed=11\n",
      "Skipping experiment: use_tt=false, n_cores=0, tt_rank=32, seed=11\n",
      "Skipping experiment: use_tt=false, n_cores=0, tt_rank=16, seed=11\n",
      "Skipping experiment: use_tt=false, n_cores=0, tt_rank=8, seed=11\n",
      "{2: {2: 0.039062499999942615, 4: 0.04330929487175544, 6: 0.0413862179488183, 8: 0.04262500000000001}, 4: {2: 0.03906250000009872, 4: 0.044991987178826826, 6: 0.0452681107954545, 8: 0.0403125}, 8: {2: 0.0328125, 4: 0.039102564103550064, 6: 0.03729967948580812, 8: 0.039369877049283165}}\n"
     ]
    }
   ],
   "source": [
    "# dict with \"key: n-cores\", \"value: dict of (key: rank, value: test_eer)\"\n",
    "experiments_result_dict = {2: {2: 0, 4: 0, 6: 0, 8: 0},\n",
    "                          4: {2: 0, 4: 0, 6: 0, 8: 0},\n",
    "                          8: {2: 0, 4: 0, 6: 0, 8: 0}}\n",
    "exp_seed = 11\n",
    "\n",
    "for exp in experiments:    \n",
    "    use_tt = exp.get_parameters_summary(\"use_tt\")[\"valueCurrent\"]\n",
    "    if not use_tt: continue\n",
    "    \n",
    "    try:\n",
    "        n_cores = int(safely_get_parameter(exp, \"n_cores\"))\n",
    "        tt_rank = int(safely_get_parameter(exp, \"tt_rank\"))\n",
    "        seed = int(safely_get_parameter(exp, \"seed\"))\n",
    "        best_val_eer = float(exp.get_metrics(\"best_eer\")[-1]['metricValue'])\n",
    "    except Exception as e:\n",
    "        print(e)\n",
    "        continue\n",
    "\n",
    "    if n_cores not in experiments_result_dict \\\n",
    "            or tt_rank not in experiments_result_dict[n_cores] \\\n",
    "                or seed != exp_seed:\n",
    "        print(\"Skipping experiment: use_tt={}, n_cores={}, tt_rank={}, seed={}\".format(use_tt, n_cores, tt_rank, seed))\n",
    "        continue\n",
    "    experiments_result_dict[n_cores][tt_rank] = best_val_eer\n",
    "print(experiments_result_dict)\n",
    "        "
   ]
  },
  {
   "cell_type": "code",
   "execution_count": 56,
   "metadata": {},
   "outputs": [
    {
     "name": "stdout",
     "output_type": "stream",
     "text": [
      "LR params:  [4360, 8464, 16672, 33088]\n",
      "TT-2cores params: [1280, 2304, 3328, 4352]\n",
      "TT-4cores params: [448, 896, 1600, 2560]\n",
      "TT-8cores params: [368, 672, 1168, 1856]\n"
     ]
    },
    {
     "data": {
      "image/png": "[encoded data removed]",
      "text/plain": [
       "<Figure size 648x432 with 1 Axes>"
      ]
     },
     "metadata": {
      "needs_background": "light"
     },
     "output_type": "display_data"
    }
   ],
   "source": [
    "plt.figure(figsize=(9, 6))\n",
    "in_size = 256\n",
    "out_size = 256\n",
    "\n",
    "# plot uncompressed experiment.\n",
    "plt.plot((in_size+1)*out_size, 0.0468, \"D\", label=\"uncompressed\", color='black', linewidth=3)\n",
    "\n",
    "# plot low-rank experiments\n",
    "lr_param_counts = [low_rank_params(in_size, out_size, rank, True) for rank in [8, 16, 32, 64]]\n",
    "print(\"LR params: \", lr_param_counts)\n",
    "plt.plot(lr_param_counts, [.0647, 0.0587, 0.0433, 0.0511], \"-.D\", label=\"low-rank\")\n",
    "\n",
    "# plot tt experiments.\n",
    "for k, v in experiments_result_dict.items():\n",
    "    # get no of params for each rank\n",
    "    core_shape = get_core_shape(k)\n",
    "    param_counts = [tt_num_params(core_shape, core_shape, rank, True) for rank in v.keys()]\n",
    "    print(\"TT-{}cores params: {}\".format(len(core_shape), param_counts))\n",
    "    plt.plot(param_counts, v.values(), \"-o\", label=\"tt \" + str(core_shape))\n",
    "plt.xscale('log')\n",
    "plt.xlabel('no of parameters', fontsize=14)\n",
    "plt.ylabel('EER', fontsize=14)\n",
    "plt.legend(fontsize=12)\n",
    "plt.show()"
   ]
  },
  {
   "cell_type": "code",
   "execution_count": 78,
   "metadata": {},
   "outputs": [
    {
     "name": "stdout",
     "output_type": "stream",
     "text": [
      "{'tt-cores4-rank2': [0.04134615384757199, 0.04238782051446542, 0.03906250000000022, 0.03906250000009872, 0.039583333334543266], 'tt-cores4-rank3': [0.03914262820514222, 0.04062500000000007], 'tt-cores4-rank4': [0.042187500000000024, 0.044991987178826826, 0.04658830275229364], 'tt-cores4-rank5': [0.04062500000000005, 0.04519230769182035, 0.039022943037974725], 'tt-cores4-rank6': [0.0452681107954545, 0.04311277932960928, 0.03906250000000891], 'tt-cores4-rank8': [0.04687500000000031, 0.0403125, 0.039062499999996725]}\n",
      "Tag: tt-cores4-rank2. No of experiments: 5\n",
      "Tag: tt-cores4-rank3. No of experiments: 2\n",
      "Tag: tt-cores4-rank4. No of experiments: 3\n",
      "Tag: tt-cores4-rank5. No of experiments: 3\n",
      "Tag: tt-cores4-rank6. No of experiments: 3\n",
      "Tag: tt-cores4-rank8. No of experiments: 3\n"
     ]
    },
    {
     "data": {
      "image/png": "[encoded data removed]",
      "text/plain": [
       "<Figure size 432x288 with 1 Axes>"
      ]
     },
     "metadata": {
      "needs_background": "light"
     },
     "output_type": "display_data"
    }
   ],
   "source": [
    "# plot the val EER for each rank.\n",
    "ranks_result_dict = {'tt-cores4-rank2':[], 'tt-cores4-rank3':[], 'tt-cores4-rank4':[], 'tt-cores4-rank5':[], \n",
    "                     'tt-cores4-rank6':[], 'tt-cores4-rank8':[]}\n",
    "ranks_avg_result_dict = fetch_val_eer(experiments, ranks_result_dict)\n",
    "plt.figure()\n",
    "plt.plot(np.arange(2,8), ranks_avg_result_dict.values(), '-o')\n",
    "plt.xlabel('rank')\n",
    "plt.ylabel('val EER')\n",
    "plt.title('no of cores = 4')\n",
    "plt.show()"
   ]
  },
  {
   "cell_type": "markdown",
   "metadata": {},
   "source": [
    "# Visualising saved spectograms."
   ]
  },
  {
   "cell_type": "code",
   "execution_count": 3,
   "metadata": {},
   "outputs": [
    {
     "ename": "NameError",
     "evalue": "name 'y' is not defined",
     "output_type": "error",
     "traceback": [
      "\u001b[1;31m---------------------------------------------------------------------------\u001b[0m",
      "\u001b[1;31mNameError\u001b[0m                                 Traceback (most recent call last)",
      "\u001b[1;32m<ipython-input-3-080b63acb3ff>\u001b[0m in \u001b[0;36m<module>\u001b[1;34m\u001b[0m\n\u001b[0;32m      3\u001b[0m \u001b[0mframes\u001b[0m \u001b[1;33m=\u001b[0m \u001b[0mnp\u001b[0m\u001b[1;33m.\u001b[0m\u001b[0mload\u001b[0m\u001b[1;33m(\u001b[0m\u001b[0mframe_fpath\u001b[0m\u001b[1;33m)\u001b[0m\u001b[1;33m.\u001b[0m\u001b[0mtranspose\u001b[0m\u001b[1;33m(\u001b[0m\u001b[1;33m)\u001b[0m\u001b[1;33m\u001b[0m\u001b[1;33m\u001b[0m\u001b[0m\n\u001b[0;32m      4\u001b[0m \u001b[0mframes\u001b[0m\u001b[1;33m.\u001b[0m\u001b[0mshape\u001b[0m\u001b[1;33m\u001b[0m\u001b[1;33m\u001b[0m\u001b[0m\n\u001b[1;32m----> 5\u001b[1;33m \u001b[0mplt\u001b[0m\u001b[1;33m.\u001b[0m\u001b[0mstem\u001b[0m\u001b[1;33m(\u001b[0m\u001b[0my\u001b[0m\u001b[1;33m)\u001b[0m\u001b[1;33m\u001b[0m\u001b[1;33m\u001b[0m\u001b[0m\n\u001b[0m\u001b[0;32m      6\u001b[0m \u001b[0mplt\u001b[0m\u001b[1;33m.\u001b[0m\u001b[0mshow\u001b[0m\u001b[1;33m(\u001b[0m\u001b[1;33m)\u001b[0m\u001b[1;33m\u001b[0m\u001b[1;33m\u001b[0m\u001b[0m\n\u001b[0;32m      7\u001b[0m \u001b[1;33m\u001b[0m\u001b[0m\n",
      "\u001b[1;31mNameError\u001b[0m: name 'y' is not defined"
     ]
    }
   ],
   "source": [
    "frame_fpath = r'D:\\Users\\Charley\\Documents\\Esperanza\\repos\\_experiments\\speech-model-compression\\speaker-verification\\_librispeech_train-clean-100_tisv\\LibriSpeech_train-clean-100_103\\1240_103-1240-0000.npy'\n",
    "frame_fpath = r'D:\\Users\\Charley\\Documents\\Esperanza\\repos\\_experiments\\speech-model-compression\\speaker-verification\\_librispeech_train-clean-100_tisv\\LibriSpeech_train-clean-100_1183\\128659_1183-128659-0000.npy'\n",
    "frames = np.load(frame_fpath).transpose()\n",
    "frames.shape\n",
    "plt.stem(y)\n",
    "plt.show()\n",
    "\n",
    "# import librosa\n",
    "# import IPython.display as ipd\n",
    "# wav_path = '777-126732-0006.wav'\n",
    "# y, sr = librosa.load(wav_path)\n",
    "# D = librosa.amplitude_to_db(np.abs(librosa.stft(y)), ref=np.max)\n",
    "# librosa.display.specshow(D, y_axis='linear')\n",
    "# plt.colorbar(format='%+2.0f dB')"
   ]
  },
  {
   "cell_type": "code",
   "execution_count": null,
   "metadata": {},
   "outputs": [],
   "source": []
  },
  {
   "cell_type": "code",
   "execution_count": null,
   "metadata": {},
   "outputs": [],
   "source": []
  }
 ],
 "metadata": {
  "kernelspec": {
   "display_name": "Python 3",
   "language": "python",
   "name": "python3"
  },
  "language_info": {
   "codemirror_mode": {
    "name": "ipython",
    "version": 3
   },
   "file_extension": ".py",
   "mimetype": "text/x-python",
   "name": "python",
   "nbconvert_exporter": "python",
   "pygments_lexer": "ipython3",
   "version": "3.7.1"
  }
 },
 "nbformat": 4,
 "nbformat_minor": 1
}
