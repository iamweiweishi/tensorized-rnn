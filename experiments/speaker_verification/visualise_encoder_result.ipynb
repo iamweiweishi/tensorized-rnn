{
 "cells": [
  {
   "cell_type": "code",
   "execution_count": 4,
   "metadata": {},
   "outputs": [],
   "source": [
    "from comet_ml.api import API\n",
    "import numpy as np\n",
    "import matplotlib.pyplot as plt \n",
    "import pandas as pd\n",
    "from scipy.stats import entropy\n",
    "from sympy.ntheory import factorint\n",
    "from sympy.utilities.iterables import multiset_partitions\n",
    "\n",
    "comet_api = API(api_key=\"hRTMB66l59BMb9pPrRzLrbzwp\")\n",
    "experiments = comet_api.get(workspace=\"tensorized-rnn\", project_name=\"speaker-verification\")\n",
    "\n",
    "def fetch_val_eer(experiments, cores_result_dict):\n",
    "    for exp in experiments:\n",
    "        tags = exp.get_tags()\n",
    "        tag = tags[-1]\n",
    "        \n",
    "        if tag in cores_result_dict.keys():\n",
    "            # best validation eer is the last one recorded.\n",
    "            best_val_eer_dict = exp.get_metrics(\"best_eer\")[-1]\n",
    "            best_val_eer = float(best_val_eer_dict['metricValue'])\n",
    "            # best_val_eer_step = int(best_val_eer_dict['step'])\n",
    "            \n",
    "            cores_result_dict[tag].append(best_val_eer)\n",
    "    print(cores_result_dict)\n",
    "    \n",
    "    # average results of experiment repeats.\n",
    "    cores_avg_result_dict = {}\n",
    "    for tag, eer_list in cores_result_dict.items():\n",
    "        print(\"Tag: {}. No of experiments: {}\".format(tag, len(eer_list)))\n",
    "        cores_avg_result_dict[tag] = round(np.mean(eer_list) * 100, 2) \n",
    "        \n",
    "    return cores_avg_result_dict\n",
    "\n",
    "\n",
    "def safely_get_parameter(api_exp, param_name):\n",
    "    param_list = api_exp.get_parameters_summary(param_name)\n",
    "    if len(param_list) == 0:\n",
    "        raise ValueError(\"parameter '{}' was not found in experiment '{}'\"\n",
    "                         .format(param_name, api_exp.get_metadata()[\"experimentKey\"]))\n",
    "    return param_list[\"valueCurrent\"]\n",
    "\n",
    "###----------FUNCTIONS from t3nsor library for getting auto shape of a tensor-train cores--------####\n",
    "def _get_all_factors(n, d=3, mode='ascending'):\n",
    "    p = _factorint2(n)\n",
    "    if len(p) < d:\n",
    "        p = p + [1, ] * (d - len(p))\n",
    "\n",
    "    if mode == 'ascending':\n",
    "        def prepr(x):\n",
    "            return tuple(sorted([np.prod(_) for _ in x]))\n",
    "    elif mode == 'descending':\n",
    "        def prepr(x):\n",
    "            return tuple(sorted([np.prod(_) for _ in x], reverse=True))\n",
    "\n",
    "    elif mode == 'mixed':\n",
    "        def prepr(x):\n",
    "            x = sorted(np.prod(_) for _ in x)\n",
    "            N = len(x)\n",
    "            xf, xl = x[:N//2], x[N//2:]\n",
    "            return tuple(_roundrobin(xf, xl))\n",
    "\n",
    "    else:\n",
    "        raise ValueError('Wrong mode specified, only {} are available'.format(MODES))\n",
    "\n",
    "    raw_factors = multiset_partitions(p, d)\n",
    "    clean_factors = [prepr(f) for f in raw_factors]\n",
    "    clean_factors = list(set(clean_factors))\n",
    "    return clean_factors\n",
    "\n",
    "def _to_list(p):\n",
    "    res = []\n",
    "    for k, v in p.items():\n",
    "        res += [k, ] * v\n",
    "    return res\n",
    "\n",
    "def _factorint2(p):\n",
    "    return _to_list(factorint(p))\n",
    "\n",
    "def auto_shape(n, d=3, criterion='entropy', mode='ascending'):\n",
    "    factors = _get_all_factors(n, d=d, mode=mode)\n",
    "    if criterion == 'entropy':\n",
    "        weights = [entropy(f) for f in factors]\n",
    "    elif criterion == 'var':\n",
    "        weights = [-np.var(f) for f in factors]\n",
    "    else:\n",
    "        raise ValueError('Wrong criterion specified, only {} are available'.format(CRITERIONS))\n",
    "\n",
    "    i = np.argmax(weights)\n",
    "    return list(factors[i])\n",
    "###----------FUNCTIONS from t3nsor library for getting auto shape of a tensor-train cores--------####\n",
    "\n",
    "def lstm_num_params(num_layers, hidden_size, input_size, bias=True):\n",
    "    n_gates_and_cell = 4\n",
    "    result = 0\n",
    "    \n",
    "    # layer 1\n",
    "    result = 4 * ((input_size + hidden_size + int(bias)) * hidden_size)\n",
    "    \n",
    "    # for higher layers, input_size == hidden_size\n",
    "    if num_layers > 1:\n",
    "        num_layers_minus_1 = num_layers - 1\n",
    "        result += num_layers_minus_1 * 4 * ((hidden_size + hidden_size + int(bias)) * hidden_size)\n",
    "    \n",
    "    return result\n",
    "\n",
    "def tt_linear_num_params(in_size, out_size, n_cores, rank, bias=True):\n",
    "#     print('in: {}, out: {}, rank: {}, cores: {}'.format(in_size, out_size, rank, n_cores))\n",
    "    in_core_shape = auto_shape(in_size, n_cores)\n",
    "    out_core_shape = auto_shape(out_size, n_cores)\n",
    "    \n",
    "    # number of parameters in a tt linear layer.\n",
    "    assert len(in_core_shape) == len(out_core_shape)\n",
    "    n_cores = len(in_core_shape)\n",
    "    \n",
    "    result = 0\n",
    "    out_size = 1\n",
    "    for i in range(n_cores):\n",
    "        if i == 0 or i == n_cores - 1:\n",
    "            result += rank * (in_core_shape[i]) * out_core_shape[i]\n",
    "        else:\n",
    "            result += rank**2 * (in_core_shape[i]) * out_core_shape[i]\n",
    "        out_size *= out_core_shape[i]\n",
    "    \n",
    "    if bias:\n",
    "        result += out_size\n",
    "    \n",
    "#     print('linear output ', result)\n",
    "    return result\n",
    "\n",
    "def tt_lstm_num_params_with_concattrick(num_layers, in_size, hidden_size, n_cores, rank, bias=True):\n",
    "    # number of parameters in a tt lstm that uses concatenation trick.\n",
    "    n_gates_and_cell = 4\n",
    "    result = 0\n",
    "    \n",
    "    # layer 1\n",
    "    result = (tt_linear_num_params(in_size, hidden_size * 4, n_cores, rank, False) \n",
    "                      + tt_linear_num_params(hidden_size, hidden_size * 4, n_cores, rank, bias))\n",
    "    \n",
    "    # for higher layers, input_size == hidden_size\n",
    "    if num_layers > 1:\n",
    "        num_layers_minus_1 = num_layers - 1\n",
    "        result += num_layers_minus_1 * (tt_linear_num_params(hidden_size, hidden_size * 4, n_cores, rank, False) \n",
    "                      + tt_linear_num_params(hidden_size, hidden_size * 4, n_cores, rank, bias))\n",
    "    \n",
    "    return result"
   ]
  },
  {
   "cell_type": "markdown",
   "metadata": {},
   "source": [
    "# Model size and parameters"
   ]
  },
  {
   "cell_type": "code",
   "execution_count": 3,
   "metadata": {},
   "outputs": [
    {
     "name": "stdout",
     "output_type": "stream",
     "text": [
      "No of parameters\n",
      "           1        2         3\n",
      "256   369920   895232   1420544\n",
      "512  1263872  3363072   5462272\n",
      "768  2682112  7403776  12125440\n"
     ]
    }
   ],
   "source": [
    "hidden_sizes = [256, 512, 768]\n",
    "num_layers = [1, 2, 3]\n",
    "input_size = 40\n",
    "emb_size = 256\n",
    "\n",
    "data = []\n",
    "for hidden_size in hidden_sizes:\n",
    "    row = []\n",
    "    for layer_size in num_layers:\n",
    "        num_linear_layer = ((hidden_size + 1) * emb_size)\n",
    "        num_lstm_layers = lstm_num_params(layer_size, hidden_size, input_size)\n",
    "        row.append(num_lstm_layers + num_linear_layer)\n",
    "    data.append(row)\n",
    "result = pd.DataFrame(data, index=hidden_sizes, columns=num_layers)\n",
    "print(\"No of parameters\")\n",
    "print(result)"
   ]
  },
  {
   "cell_type": "markdown",
   "metadata": {},
   "source": [
    "## Evaluating no of parameters in TT-LSTM"
   ]
  },
  {
   "cell_type": "code",
   "execution_count": 11,
   "metadata": {},
   "outputs": [
    {
     "name": "stdout",
     "output_type": "stream",
     "text": [
      "No of parameters (1/768)\n",
      "      1      2      3      4      5\n",
      "2  8176  13024  17872  22720  27568\n",
      "3  4104   5392   7192   9504  12328\n",
      "4  3668   4312   5260   6512   8068\n",
      "\n",
      "No of parameters (3/256)\n",
      "      1      2      3      4      5\n",
      "2  9376  15424  21472  27520  33568\n",
      "3  4720   6944  10000  13888  18608\n",
      "4  3944   5152   6952   9344  12328\n",
      "\n",
      "No of parameters (2/512)\n",
      "       1      2      3      4      5\n",
      "2  13472  22592  31712  40832  49952\n",
      "3   5632   7936  11264  15616  20992\n",
      "4   4944   6048   7664   9792  12432\n",
      "\n",
      "No of parameters (3/512)\n",
      "       1      2      3      4      5\n",
      "2  21536  36928  52320  67712  83104\n",
      "3   8080  11568  16608  23200  31344\n",
      "4   7024   8688  11136  14368  18384\n",
      "\n"
     ]
    }
   ],
   "source": [
    "input_size = 40\n",
    "emb_size = 256\n",
    "n_cores_list = [2,3,4]\n",
    "ranks_list = [1, 2, 3, 4, 5]\n",
    "\n",
    "def print_tt_lstm_options(num_layers, hidden_size, input_size, emb_size, n_cores_list, ranks_list):\n",
    "    data = []\n",
    "    for i in range(len(n_cores_list)):\n",
    "        n_cores = n_cores_list[i]\n",
    "        row = []\n",
    "        for rank in ranks_list:\n",
    "            num_lstm_layers = tt_lstm_num_params_with_concattrick(num_layers, input_size, hidden_size, n_cores, rank, bias=True)\n",
    "            num_linear_layer = tt_linear_num_params(hidden_size, emb_size, n_cores, rank, bias=True)\n",
    "            row.append(num_lstm_layers + num_linear_layer)\n",
    "        data.append(row)\n",
    "    data = pd.DataFrame(data, index=n_cores_list, columns=ranks_list)\n",
    "    return data\n",
    "\n",
    "#---------------\n",
    "hidden_size = 768\n",
    "num_layers = 1\n",
    "print(\"No of parameters ({}/{})\".format(num_layers, hidden_size))\n",
    "print(print_tt_lstm_options(num_layers, hidden_size, input_size, emb_size, n_cores_list, ranks_list))\n",
    "print(\"\")\n",
    "\n",
    "#---------------\n",
    "hidden_size = 256\n",
    "num_layers = 3\n",
    "print(\"No of parameters ({}/{})\".format(num_layers, hidden_size))\n",
    "print(print_tt_lstm_options(num_layers, hidden_size, input_size, emb_size, n_cores_list, ranks_list))\n",
    "print(\"\")\n",
    "\n",
    "#---------------\n",
    "hidden_size = 512\n",
    "num_layers = 2\n",
    "print(\"No of parameters ({}/{})\".format(num_layers, hidden_size))\n",
    "print(print_tt_lstm_options(num_layers, hidden_size, input_size, emb_size, n_cores_list, ranks_list))\n",
    "print(\"\")\n",
    "\n",
    "input_size = 512\n",
    "emb_size = 0\n",
    "hidden_size = 512\n",
    "num_layers = 3\n",
    "print(\"No of parameters ({}/{})\".format(num_layers, hidden_size))\n",
    "print(print_tt_lstm_options(num_layers, hidden_size, input_size, emb_size, n_cores_list, ranks_list))\n",
    "print(\"\")"
   ]
  },
  {
   "cell_type": "markdown",
   "metadata": {},
   "source": [
    "# Evaluating no of parameters in linear layer using low-rank factorisation."
   ]
  },
  {
   "cell_type": "code",
   "execution_count": 41,
   "metadata": {},
   "outputs": [
    {
     "name": "stdout",
     "output_type": "stream",
     "text": [
      "No of parameters (uncompressed): 65536\n",
      "Rank\tNum of Parms\n",
      "2\t1282\n",
      "4\t2308\n",
      "8\t4360\n",
      "16\t8464\n",
      "32\t16672\n",
      "64\t33088\n"
     ]
    }
   ],
   "source": [
    "def low_rank_params(in_features, out_features, rank, bias):\n",
    "    return ((in_features + int(bias)) * rank) + ((rank + int(bias)) * out_features)\n",
    "\n",
    "in_size = 256\n",
    "out_size = 256\n",
    "ranks = 2 ** np.arange(1,7)\n",
    "\n",
    "print(\"No of parameters (uncompressed):\", 256 * 256)\n",
    "print(\"Rank\\tNum of Parms\")\n",
    "for rank in ranks:\n",
    "    print(\"{}\\t{}\".format(rank, low_rank_params(in_size, out_size, rank, True)))"
   ]
  },
  {
   "cell_type": "markdown",
   "metadata": {},
   "source": [
    "# Plot experiment result"
   ]
  },
  {
   "cell_type": "code",
   "execution_count": 29,
   "metadata": {},
   "outputs": [
    {
     "name": "stdout",
     "output_type": "stream",
     "text": [
      "Skipping experiment: compression=tt, n_cores=2, tt_rank=5, seed=11\n",
      "Skipping experiment: compression=tt, n_cores=4, tt_rank=5, seed=11\n",
      "Skipping experiment: compression=tt, n_cores=3, tt_rank=5, seed=11\n",
      "{2: {1: 0.047115384616034435, 2: 0.04344512195077787, 3: 0.06874999999999927, 4: 0.06213942307541739}, 3: {1: 0.06093749999999991, 2: 0.053125000000000026, 3: 0.05468749999999987, 4: 0.053846153846863}, 4: {1: 0.05337284482744496, 2: 0.05576923076880846, 3: 0.05312499999999996, 4: 0.04278846153918008}}\n"
     ]
    }
   ],
   "source": [
    "# dict with \"key: n-cores\", \"value: dict of (key: rank, value: test_eer)\"\n",
    "# experiments_result_dict = {2: {1: 0, 2: 0, 4: 0},\n",
    "#                           3: {1: 0, 2: 0, 4: 0},\n",
    "#                           4: {1: 0, 2: 0, 4: 0}}\n",
    "experiments_result_dict = {2: {1: 0, 2: 0, 3:0, 4: 0},\n",
    "                          3: {1: 0, 2: 0, 3:0, 4: 0},\n",
    "                          4: {1: 0, 2: 0, 3:0, 4: 0}}\n",
    "exp_seed = 11\n",
    "\n",
    "for exp in experiments:    \n",
    "    compression = exp.get_parameters_summary(\"compression\")[\"valueCurrent\"]\n",
    "    if not compression == 'tt' : continue\n",
    "    \n",
    "    try:\n",
    "        n_cores = int(safely_get_parameter(exp, \"n_cores\"))\n",
    "        tt_rank = int(safely_get_parameter(exp, \"rank\"))\n",
    "        seed = int(safely_get_parameter(exp, \"seed\"))\n",
    "        best_val_eer = float(exp.get_metrics(\"test_EER\")[-1]['metricValue'])\n",
    "    except Exception as e:\n",
    "        print(e)\n",
    "        continue\n",
    "\n",
    "    if n_cores not in experiments_result_dict \\\n",
    "            or tt_rank not in experiments_result_dict[n_cores] \\\n",
    "                or seed != exp_seed:\n",
    "        print(\"Skipping experiment: compression={}, n_cores={}, tt_rank={}, seed={}\".format(compression, n_cores, tt_rank, seed))\n",
    "        continue\n",
    "    experiments_result_dict[n_cores][tt_rank] = best_val_eer\n",
    "print(experiments_result_dict)\n",
    "        "
   ]
  },
  {
   "cell_type": "code",
   "execution_count": 45,
   "metadata": {},
   "outputs": [
    {
     "name": "stdout",
     "output_type": "stream",
     "text": [
      "TT-2cores params: [8176, 13024, 17872, 22720]\n",
      "TT-3cores params: [4104, 5392, 7192, 9504]\n",
      "TT-4cores params: [3668, 4312, 5260, 6512]\n"
     ]
    },
    {
     "data": {
      "image/png": "[encoded data removed]",
      "text/plain": [
       "<Figure size 504x360 with 1 Axes>"
      ]
     },
     "metadata": {
      "needs_background": "light"
     },
     "output_type": "display_data"
    }
   ],
   "source": [
    "%matplotlib inline\n",
    "\n",
    "plt.figure(figsize=(7, 5))\n",
    "input_size = 40\n",
    "emb_size = 256\n",
    "hidden_size = 768\n",
    "num_layers = 1\n",
    "\n",
    "# plot uncompressed experiment.\n",
    "plt.plot(2682112, 0.07333 * 100, \"D\", label=\"LSTM\", color='black', linewidth=3)\n",
    "\n",
    "# # plot low-rank experiments\n",
    "# lr_param_counts = [low_rank_params(in_size, out_size, rank, True) for rank in [8, 16, 32, 64]]\n",
    "# print(\"LR params: \", lr_param_counts)\n",
    "# plt.plot(lr_param_counts, [.0647, 0.0587, 0.0433, 0.0511], \"-.D\", label=\"low-rank\")\n",
    "\n",
    "# plot tt experiments.\n",
    "for k, v in experiments_result_dict.items():\n",
    "    param_counts = []\n",
    "    for rank in v.keys():\n",
    "        num_lstm_layers = tt_lstm_num_params_with_concattrick(num_layers, input_size, hidden_size, k, rank, bias=True)\n",
    "        num_linear_layer = tt_linear_num_params(hidden_size, emb_size, k, rank, bias=True)\n",
    "    \n",
    "        param_counts.append(num_lstm_layers + num_linear_layer)\n",
    "    print(\"TT-{}cores params: {}\".format(k, param_counts))\n",
    "    \n",
    "    # plot all rank values for the current core, k.\n",
    "    shape_str = \" $x$ \".join([str(s) for s in auto_shape(hidden_size, k)])\n",
    "    values_in_perc = [val * 100 for val in v.values()]\n",
    "    plt.plot(param_counts, values_in_perc, \"-o\", label=\"TT-LSTM \" + shape_str)\n",
    "plt.xscale('log')\n",
    "plt.xlabel('# parameters', fontsize=14)\n",
    "plt.ylabel('EER (%)', fontsize=14)\n",
    "plt.ylim([0,20])\n",
    "plt.xticks(fontsize=13)\n",
    "plt.yticks(fontsize=13)\n",
    "plt.legend(fontsize=13, loc='upper center')\n",
    "plt.show()"
   ]
  },
  {
   "cell_type": "code",
   "execution_count": 78,
   "metadata": {},
   "outputs": [
    {
     "name": "stdout",
     "output_type": "stream",
     "text": [
      "{'tt-cores4-rank2': [0.04134615384757199, 0.04238782051446542, 0.03906250000000022, 0.03906250000009872, 0.039583333334543266], 'tt-cores4-rank3': [0.03914262820514222, 0.04062500000000007], 'tt-cores4-rank4': [0.042187500000000024, 0.044991987178826826, 0.04658830275229364], 'tt-cores4-rank5': [0.04062500000000005, 0.04519230769182035, 0.039022943037974725], 'tt-cores4-rank6': [0.0452681107954545, 0.04311277932960928, 0.03906250000000891], 'tt-cores4-rank8': [0.04687500000000031, 0.0403125, 0.039062499999996725]}\n",
      "Tag: tt-cores4-rank2. No of experiments: 5\n",
      "Tag: tt-cores4-rank3. No of experiments: 2\n",
      "Tag: tt-cores4-rank4. No of experiments: 3\n",
      "Tag: tt-cores4-rank5. No of experiments: 3\n",
      "Tag: tt-cores4-rank6. No of experiments: 3\n",
      "Tag: tt-cores4-rank8. No of experiments: 3\n"
     ]
    },
    {
     "data": {
      "image/png": "[encoded data removed]",
      "text/plain": [
       "<Figure size 432x288 with 1 Axes>"
      ]
     },
     "metadata": {
      "needs_background": "light"
     },
     "output_type": "display_data"
    }
   ],
   "source": [
    "# plot the val EER for each rank.\n",
    "ranks_result_dict = {'tt-cores4-rank2':[], 'tt-cores4-rank3':[], 'tt-cores4-rank4':[], 'tt-cores4-rank5':[], \n",
    "                     'tt-cores4-rank6':[], 'tt-cores4-rank8':[]}\n",
    "ranks_avg_result_dict = fetch_val_eer(experiments, ranks_result_dict)\n",
    "plt.figure()\n",
    "plt.plot(np.arange(2,8), ranks_avg_result_dict.values(), '-o')\n",
    "plt.xlabel('rank')\n",
    "plt.ylabel('val EER')\n",
    "plt.title('no of cores = 4')\n",
    "plt.show()"
   ]
  },
  {
   "cell_type": "markdown",
   "metadata": {},
   "source": [
    "# Visualising saved spectograms."
   ]
  },
  {
   "cell_type": "code",
   "execution_count": 3,
   "metadata": {},
   "outputs": [
    {
     "ename": "NameError",
     "evalue": "name 'y' is not defined",
     "output_type": "error",
     "traceback": [
      "\u001b[1;31m---------------------------------------------------------------------------\u001b[0m",
      "\u001b[1;31mNameError\u001b[0m                                 Traceback (most recent call last)",
      "\u001b[1;32m<ipython-input-3-080b63acb3ff>\u001b[0m in \u001b[0;36m<module>\u001b[1;34m\u001b[0m\n\u001b[0;32m      3\u001b[0m \u001b[0mframes\u001b[0m \u001b[1;33m=\u001b[0m \u001b[0mnp\u001b[0m\u001b[1;33m.\u001b[0m\u001b[0mload\u001b[0m\u001b[1;33m(\u001b[0m\u001b[0mframe_fpath\u001b[0m\u001b[1;33m)\u001b[0m\u001b[1;33m.\u001b[0m\u001b[0mtranspose\u001b[0m\u001b[1;33m(\u001b[0m\u001b[1;33m)\u001b[0m\u001b[1;33m\u001b[0m\u001b[1;33m\u001b[0m\u001b[0m\n\u001b[0;32m      4\u001b[0m \u001b[0mframes\u001b[0m\u001b[1;33m.\u001b[0m\u001b[0mshape\u001b[0m\u001b[1;33m\u001b[0m\u001b[1;33m\u001b[0m\u001b[0m\n\u001b[1;32m----> 5\u001b[1;33m \u001b[0mplt\u001b[0m\u001b[1;33m.\u001b[0m\u001b[0mstem\u001b[0m\u001b[1;33m(\u001b[0m\u001b[0my\u001b[0m\u001b[1;33m)\u001b[0m\u001b[1;33m\u001b[0m\u001b[1;33m\u001b[0m\u001b[0m\n\u001b[0m\u001b[0;32m      6\u001b[0m \u001b[0mplt\u001b[0m\u001b[1;33m.\u001b[0m\u001b[0mshow\u001b[0m\u001b[1;33m(\u001b[0m\u001b[1;33m)\u001b[0m\u001b[1;33m\u001b[0m\u001b[1;33m\u001b[0m\u001b[0m\n\u001b[0;32m      7\u001b[0m \u001b[1;33m\u001b[0m\u001b[0m\n",
      "\u001b[1;31mNameError\u001b[0m: name 'y' is not defined"
     ]
    }
   ],
   "source": [
    "frame_fpath = r'D:\\Users\\Charley\\Documents\\Esperanza\\repos\\_experiments\\speech-model-compression\\speaker-verification\\_librispeech_train-clean-100_tisv\\LibriSpeech_train-clean-100_103\\1240_103-1240-0000.npy'\n",
    "frame_fpath = r'D:\\Users\\Charley\\Documents\\Esperanza\\repos\\_experiments\\speech-model-compression\\speaker-verification\\_librispeech_train-clean-100_tisv\\LibriSpeech_train-clean-100_1183\\128659_1183-128659-0000.npy'\n",
    "frames = np.load(frame_fpath).transpose()\n",
    "frames.shape\n",
    "plt.stem(y)\n",
    "plt.show()\n",
    "\n",
    "# import librosa\n",
    "# import IPython.display as ipd\n",
    "# wav_path = '777-126732-0006.wav'\n",
    "# y, sr = librosa.load(wav_path)\n",
    "# D = librosa.amplitude_to_db(np.abs(librosa.stft(y)), ref=np.max)\n",
    "# librosa.display.specshow(D, y_axis='linear')\n",
    "# plt.colorbar(format='%+2.0f dB')"
   ]
  },
  {
   "cell_type": "markdown",
   "metadata": {},
   "source": [
    "# Visualising UMAP Projections"
   ]
  },
  {
   "cell_type": "code",
   "execution_count": null,
   "metadata": {},
   "outputs": [],
   "source": [
    "def draw_projections(embeds, utterances_per_speaker, step, out_fpath=None,\n",
    "                     max_speakers=16):\n",
    "    if self.disabled:\n",
    "        return\n",
    "    max_speakers = min(max_speakers, len(colormap))\n",
    "    embeds = embeds[:max_speakers * utterances_per_speaker]\n",
    "\n",
    "    n_speakers = len(embeds) // utterances_per_speaker\n",
    "    ground_truth = np.repeat(np.arange(n_speakers), utterances_per_speaker)\n",
    "    colors = [colormap[i] for i in ground_truth]\n",
    "\n",
    "    reducer = umap.UMAP()\n",
    "    projected = reducer.fit_transform(embeds)\n",
    "    plt.scatter(projected[:, 0], projected[:, 1], c=colors)\n",
    "    plt.gca().set_aspect(\"equal\", \"datalim\")\n",
    "    plt.title(\"UMAP projection (step %d)\" % step)\n",
    "    if out_fpath is not None:\n",
    "        plt.savefig(out_fpath)\n",
    "    plt.clf()\n",
    "    self.experiment.log_image(out_fpath, step=step)\n",
    "\n",
    "colormap = np.array([\n",
    "    [76, 255, 0],\n",
    "    [0, 127, 70],\n",
    "    [255, 0, 0],\n",
    "    [255, 217, 38],\n",
    "    [0, 135, 255],\n",
    "    [165, 0, 165],\n",
    "    [255, 167, 255],\n",
    "    [0, 255, 255],\n",
    "    [255, 96, 38],\n",
    "    [142, 76, 0],\n",
    "    [33, 0, 127],\n",
    "    [0, 0, 0],\n",
    "    [183, 183, 183],\n",
    "], dtype=np.float) / 255\n",
    "\n",
    "file_path = \"lstm\"\n",
    "with open(file_path, 'r') as fp:\n",
    "    data = json.load(fp)\n",
    "model = SpeakerEncoder(pd.mel_n_channels, pm.model_hidden_size, pm.model_num_layers,\n",
    "                       pm.model_embedding_size, device, loss_device,\n",
    "                       compression=pm.compression, n_cores=pm.n_cores,\n",
    "                       rank=pm.rank)\n",
    "checkpoint = torch.load(state_fpath)\n",
    "model.load_state_dict(checkpoint[\"model_state\"])\n",
    "# load model from file.\n",
    "# run forward pass to get embeds.\n",
    "# visualise side by side."
   ]
  }
 ],
 "metadata": {
  "kernelspec": {
   "display_name": "Python 3",
   "language": "python",
   "name": "python3"
  },
  "language_info": {
   "codemirror_mode": {
    "name": "ipython",
    "version": 3
   },
   "file_extension": ".py",
   "mimetype": "text/x-python",
   "name": "python",
   "nbconvert_exporter": "python",
   "pygments_lexer": "ipython3",
   "version": "3.7.1"
  }
 },
 "nbformat": 4,
 "nbformat_minor": 1
}
